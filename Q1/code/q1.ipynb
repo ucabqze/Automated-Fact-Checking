{
 "cells": [
  {
   "cell_type": "markdown",
   "metadata": {},
   "source": [
    "<font face=\"微软雅黑\" size=6 color=#000000> Import Packages and Datas"
   ]
  },
  {
   "cell_type": "code",
   "execution_count": 1,
   "metadata": {},
   "outputs": [
    {
     "name": "stdout",
     "output_type": "stream",
     "text": [
      "[nltk_data] Downloading package wordnet to\n",
      "[nltk_data]     /Users/cengqiqi/nltk_data...\n",
      "[nltk_data]   Package wordnet is already up-to-date!\n",
      "[nltk_data] Downloading package averaged_perceptron_tagger to\n",
      "[nltk_data]     /Users/cengqiqi/nltk_data...\n",
      "[nltk_data]   Package averaged_perceptron_tagger is already up-to-\n",
      "[nltk_data]       date!\n"
     ]
    }
   ],
   "source": [
    "import pandas as pd\n",
    "import nltk\n",
    "from nltk import word_tokenize\n",
    "from string import digits\n",
    "from nltk.tokenize import RegexpTokenizer\n",
    "from collections import Counter\n",
    "\n",
    "from nltk.stem.wordnet import WordNetLemmatizer\n",
    "from nltk.corpus import wordnet\n",
    "from nltk import pos_tag\n",
    "nltk.download('wordnet')\n",
    "nltk.download('averaged_perceptron_tagger')\n",
    "\n",
    "import matplotlib.pyplot as plt\n",
    "import seaborn as sns\n",
    "import numpy as np"
   ]
  },
  {
   "cell_type": "code",
   "execution_count": 6,
   "metadata": {},
   "outputs": [],
   "source": [
    "path_windows = \"N:\\\\DesktopSettings\\\\Desktop\\\\DM_working\\\\dataset\\\\wiki_id_text\"\n",
    "path_mac = \"/Users/cengqiqi/Desktop/DM_working/dataset/wiki_id_text\"\n",
    "wikipage = pd.read_table(path_windows,header = None)"
   ]
  },
  {
   "cell_type": "code",
   "execution_count": 7,
   "metadata": {
    "scrolled": true
   },
   "outputs": [
    {
     "data": {
      "text/html": [
       "<div>\n",
       "<style scoped>\n",
       "    .dataframe tbody tr th:only-of-type {\n",
       "        vertical-align: middle;\n",
       "    }\n",
       "\n",
       "    .dataframe tbody tr th {\n",
       "        vertical-align: top;\n",
       "    }\n",
       "\n",
       "    .dataframe thead th {\n",
       "        text-align: right;\n",
       "    }\n",
       "</style>\n",
       "<table border=\"1\" class=\"dataframe\">\n",
       "  <thead>\n",
       "    <tr style=\"text-align: right;\">\n",
       "      <th></th>\n",
       "      <th>0</th>\n",
       "      <th>1</th>\n",
       "    </tr>\n",
       "  </thead>\n",
       "  <tbody>\n",
       "    <tr>\n",
       "      <th>0</th>\n",
       "      <td>1928_in_association_football</td>\n",
       "      <td>The following are the football -LRB- soccer -R...</td>\n",
       "    </tr>\n",
       "    <tr>\n",
       "      <th>1</th>\n",
       "      <td>1986_NBA_Finals</td>\n",
       "      <td>The 1986 NBA Finals was the championship round...</td>\n",
       "    </tr>\n",
       "    <tr>\n",
       "      <th>2</th>\n",
       "      <td>1901_Villanova_Wildcats_football_team</td>\n",
       "      <td>The 1901 Villanova Wildcats football team repr...</td>\n",
       "    </tr>\n",
       "    <tr>\n",
       "      <th>3</th>\n",
       "      <td>1992_Northwestern_Wildcats_football_team</td>\n",
       "      <td>The 1992 Northwestern Wildcats team represente...</td>\n",
       "    </tr>\n",
       "    <tr>\n",
       "      <th>4</th>\n",
       "      <td>1897_Princeton_Tigers_football_team</td>\n",
       "      <td>The 1897 Princeton Tigers football team repres...</td>\n",
       "    </tr>\n",
       "  </tbody>\n",
       "</table>\n",
       "</div>"
      ],
      "text/plain": [
       "                                          0  \\\n",
       "0              1928_in_association_football   \n",
       "1                           1986_NBA_Finals   \n",
       "2     1901_Villanova_Wildcats_football_team   \n",
       "3  1992_Northwestern_Wildcats_football_team   \n",
       "4       1897_Princeton_Tigers_football_team   \n",
       "\n",
       "                                                   1  \n",
       "0  The following are the football -LRB- soccer -R...  \n",
       "1  The 1986 NBA Finals was the championship round...  \n",
       "2  The 1901 Villanova Wildcats football team repr...  \n",
       "3  The 1992 Northwestern Wildcats team represente...  \n",
       "4  The 1897 Princeton Tigers football team repres...  "
      ]
     },
     "execution_count": 7,
     "metadata": {},
     "output_type": "execute_result"
    }
   ],
   "source": [
    "wikipage.head()"
   ]
  },
  {
   "cell_type": "markdown",
   "metadata": {},
   "source": [
    "<font face=\"微软雅黑\" size=6 color=#000000> Step1: Text Statistics"
   ]
  },
  {
   "cell_type": "code",
   "execution_count": 10,
   "metadata": {},
   "outputs": [],
   "source": [
    "# lower case\n",
    "# punctuation\n",
    "# numbers \n",
    "# remove link (rrb and lrb)\n",
    "# stop words"
   ]
  },
  {
   "cell_type": "code",
   "execution_count": 11,
   "metadata": {},
   "outputs": [],
   "source": [
    "tmp1 = wikipage[1][0:1000000]\n",
    "tmp2 = wikipage[1][1000000:2000000]\n",
    "tmp3 = wikipage[1][2000000:3000000]\n",
    "tmp4 = wikipage[1][3000000:4000000]\n",
    "tmp5 = wikipage[1][4000000:len(wikipage)+1]"
   ]
  },
  {
   "cell_type": "code",
   "execution_count": 12,
   "metadata": {},
   "outputs": [],
   "source": [
    "def countTerm(text):\n",
    "\n",
    "    term_list=[]\n",
    "    for term in text: \n",
    "\n",
    "        # lower case for a sentence\n",
    "        term = term.lower()\n",
    "\n",
    "#         # remove digit\n",
    "#         remove_digits = str.maketrans('', '', digits)\n",
    "#         term = term.translate(remove_digits)\n",
    "\n",
    "#         # remove puncutation and append words to list\n",
    "#         # version 1\n",
    "#         # tokenizer = RegexpTokenizer(r'\\w+')  # this will separate words like \"can't\"\n",
    "#         # version 2\n",
    "#         tokenizer = RegexpTokenizer(\"[\\w']+\") # this will not separate words like \"can't\"\n",
    "#         temp_list = tokenizer.tokenize(term)\n",
    "\n",
    "        # version 3 \n",
    "        pattern = r\"\"\"(?x)                  \n",
    "                              (?:[A-Z]\\.)+           # abbreviations, e.g. U.S.A. \n",
    "                              |\\$?\\d+(?:,\\d+)*(?:\\.\\d+)?%? # 2,000 or 2.5\n",
    "                              |\\w+(?:[-']\\w+)*      # words w/ optional internal hyphens/apostrophe  e.g. can't\n",
    "                            \"\"\"\n",
    "        temp_list = nltk.regexp_tokenize(term, pattern)\n",
    "        \n",
    "        # lemmatize\n",
    "        temp_list = [WordNetLemmatizer().lemmatize(w,pos = 'v') for w in temp_list] # only Lancaster\n",
    "    \n",
    "    \n",
    "  \n",
    "        # count frequency of term \n",
    "\n",
    "#         # method1\n",
    "#         term_count = Counter()\n",
    "#         temp_count = Counter(temp_list)\n",
    "#         term_count = term_count + temp_count\n",
    "\n",
    "        # method2\n",
    "        term_list.extend(temp_list)\n",
    "\n",
    "    term_count = Counter(term_list)\n",
    "    return term_count\n",
    "\n",
    "#     #     print(total_list)\n",
    "#     #     print('--------------------------------')\n",
    "#     #     print('--------------------------------')"
   ]
  },
  {
   "cell_type": "code",
   "execution_count": 15,
   "metadata": {},
   "outputs": [],
   "source": [
    "term_count_1 = countTerm(tmp1)"
   ]
  },
  {
   "cell_type": "code",
   "execution_count": 16,
   "metadata": {},
   "outputs": [],
   "source": [
    "term_count_2 = countTerm(tmp2)"
   ]
  },
  {
   "cell_type": "code",
   "execution_count": 17,
   "metadata": {},
   "outputs": [],
   "source": [
    "term_count_3 = countTerm(tmp3)"
   ]
  },
  {
   "cell_type": "code",
   "execution_count": 18,
   "metadata": {},
   "outputs": [],
   "source": [
    "term_count_4 = countTerm(tmp4)"
   ]
  },
  {
   "cell_type": "code",
   "execution_count": 19,
   "metadata": {},
   "outputs": [],
   "source": [
    "term_count_5 = countTerm(tmp5)"
   ]
  },
  {
   "cell_type": "code",
   "execution_count": 20,
   "metadata": {},
   "outputs": [],
   "source": [
    "term_count_total = term_count_1+term_count_2+term_count_3+term_count_4+term_count_5"
   ]
  },
  {
   "cell_type": "code",
   "execution_count": 21,
   "metadata": {},
   "outputs": [],
   "source": [
    "term_count = dict(term_count_total)"
   ]
  },
  {
   "cell_type": "code",
   "execution_count": 25,
   "metadata": {},
   "outputs": [],
   "source": [
    "import csv \n",
    "\n",
    "with open('term_count.csv', 'w', encoding=\"utf-8\",newline='') as csv_file:\n",
    "    writer = csv.writer(csv_file)\n",
    "    for key, value in term_count.items():\n",
    "        writer.writerow([key, value])"
   ]
  },
  {
   "cell_type": "code",
   "execution_count": 2,
   "metadata": {},
   "outputs": [],
   "source": []
  },
  {
   "cell_type": "markdown",
   "metadata": {},
   "source": [
    "<font face=\"微软雅黑\" size=6 color=#000000> Step2: Zips Law visualisation"
   ]
  },
  {
   "cell_type": "code",
   "execution_count": 2,
   "metadata": {},
   "outputs": [],
   "source": [
    "# load word count\n",
    "term_count = pd.read_csv('term_count.csv', header = None)"
   ]
  },
  {
   "cell_type": "code",
   "execution_count": 3,
   "metadata": {},
   "outputs": [
    {
     "data": {
      "text/plain": [
       "4104303"
      ]
     },
     "execution_count": 3,
     "metadata": {},
     "output_type": "execute_result"
    }
   ],
   "source": [
    "len(term_count)"
   ]
  },
  {
   "cell_type": "code",
   "execution_count": 18,
   "metadata": {},
   "outputs": [],
   "source": [
    "#prepare x and y\n",
    "x = term_count[1].value_counts().index\n",
    "y = (term_count[1].value_counts().values)/sum(term_count[1].value_counts().values)"
   ]
  },
  {
   "cell_type": "code",
   "execution_count": 24,
   "metadata": {
    "scrolled": true
   },
   "outputs": [
    {
     "data": {
      "image/png": "[encoded data removed]",
      "text/plain": [
       "<Figure size 720x432 with 1 Axes>"
      ]
     },
     "metadata": {},
     "output_type": "display_data"
    }
   ],
   "source": [
    "import os\n",
    "sns.set(color_codes=True)\n",
    "plt.figure(figsize=(10, 6))\n",
    "\n",
    "plt.xscale('log')\n",
    "plt.yscale('log')\n",
    "plt.scatter(x, y, marker = 'x', facecolor = 'blue', label='empirical data')\n",
    "\n",
    "plt.xlabel('words count (on log scale)', fontsize = 18)\n",
    "plt.ylabel('Frequency (on log scale)', fontsize = 18)\n",
    "plt.title('Word Count Distribution', fontsize = 18)\n",
    "\n",
    "plt.savefig('word count distribution.png', format='png', dpi=300)"
   ]
  },
  {
   "cell_type": "code",
   "execution_count": 20,
   "metadata": {},
   "outputs": [],
   "source": [
    "x = range(1,len(term_count[1])+1)\n",
    "y = sorted(term_count[1]/sum(term_count[1]),reverse=True)"
   ]
  },
  {
   "cell_type": "code",
   "execution_count": 21,
   "metadata": {
    "scrolled": false
   },
   "outputs": [
    {
     "data": {
      "image/png": "[encoded data removed]",
      "text/plain": [
       "<Figure size 720x432 with 1 Axes>"
      ]
     },
     "metadata": {},
     "output_type": "display_data"
    }
   ],
   "source": [
    "import os\n",
    "sns.set(color_codes=True)\n",
    "plt.figure(figsize=(10, 6))\n",
    "\n",
    "\n",
    "plt.loglog(x, y)\n",
    "plt.xlabel('Rank', fontsize = 18)\n",
    "plt.ylabel('Frequency', fontsize = 18)\n",
    "plt.title('Word Count Distribution on log scale', fontsize = 18)\n",
    "\n",
    "\n",
    "\n",
    "plt.savefig('word count distribution.png', format='png', dpi=300)\n"
   ]
  },
  {
   "cell_type": "code",
   "execution_count": 23,
   "metadata": {},
   "outputs": [
    {
     "name": "stdout",
     "output_type": "stream",
     "text": [
      "[0.06704176 0.07644463 0.1052822  ... 0.00894734 0.00894734 0.00894734]\n"
     ]
    }
   ],
   "source": [
    "# rank (r) of a word times its frequency (f) is approximately a constant (k)\n",
    "rank = np.array(x)\n",
    "frequncy = np.array(y)\n",
    "print(rank*frequncy)"
   ]
  },
  {
   "cell_type": "markdown",
   "metadata": {},
   "source": [
    "<font face=\"微软雅黑\" size=6 color=#000000> Step3: Compute parameter"
   ]
  },
  {
   "cell_type": "code",
   "execution_count": 20,
   "metadata": {},
   "outputs": [
    {
     "name": "stdout",
     "output_type": "stream",
     "text": [
      "The parameter is  [1.34191852]\n"
     ]
    }
   ],
   "source": [
    "# least square\n",
    "# x = term_count[1].value_counts().index\n",
    "# y = (term_count[1].value_counts().values)/sum(term_count[1].value_counts().values)\n",
    "\n",
    "# x = x[0:int(len(x)*4/7)]\n",
    "# y = y[0:int(len(y)*4/7)]\n",
    "\n",
    "logx = np.array(np.log(x)).reshape(-1,1)\n",
    "logy = np.array(np.log(y)).reshape(-1,1)\n",
    "\n",
    "w = np.linalg.inv(logx.T@logx)@logx.T@logy\n",
    "print('The parameter is ', -w[0])"
   ]
  },
  {
   "cell_type": "code",
   "execution_count": null,
   "metadata": {},
   "outputs": [],
   "source": []
  }
 ],
 "metadata": {
  "kernelspec": {
   "display_name": "Python 3",
   "language": "python",
   "name": "python3"
  },
  "language_info": {
   "codemirror_mode": {
    "name": "ipython",
    "version": 3
   },
   "file_extension": ".py",
   "mimetype": "text/x-python",
   "name": "python",
   "nbconvert_exporter": "python",
   "pygments_lexer": "ipython3",
   "version": "3.7.3"
  }
 },
 "nbformat": 4,
 "nbformat_minor": 2
}
