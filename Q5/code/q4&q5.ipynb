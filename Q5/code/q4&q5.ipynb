{
 "cells": [
  {
   "cell_type": "markdown",
   "metadata": {},
   "source": [
    "<font face=\"微软雅黑\" size=6 color=#000000> Q4"
   ]
  },
  {
   "cell_type": "code",
   "execution_count": 4,
   "metadata": {},
   "outputs": [
    {
     "name": "stderr",
     "output_type": "stream",
     "text": [
      "/anaconda3/lib/python3.7/site-packages/smart_open/ssh.py:34: UserWarning: paramiko missing, opening SSH/SCP/SFTP paths will be disabled.  `pip install paramiko` to suppress\n",
      "  warnings.warn('paramiko missing, opening SSH/SCP/SFTP paths will be disabled.  `pip install paramiko` to suppress')\n"
     ]
    }
   ],
   "source": [
    "import pandas as pd\n",
    "import numpy as np\n",
    "from numpy import dot\n",
    "from tqdm import tqdm_notebook as tqdm\n",
    "import seaborn as sns\n",
    "import matplotlib.pyplot as plt\n",
    "\n",
    "import json\n",
    "import random\n",
    "import re\n",
    "import os\n",
    "import sys\n",
    "import math\n",
    "import csv\n",
    "import pickle\n",
    "import string\n",
    "\n",
    "import nltk\n",
    "from nltk import word_tokenize\n",
    "from nltk.tokenize import RegexpTokenizer\n",
    "from nltk.corpus import stopwords\n",
    "from nltk.stem.wordnet import WordNetLemmatizer\n",
    "\n",
    "from gensim.models import Word2Vec\n",
    "\n",
    "from collections import Counter\n",
    "from string import digits"
   ]
  },
  {
   "cell_type": "markdown",
   "metadata": {},
   "source": [
    "<font face=\"微软雅黑\" size=6 color=#000000> 1. Prepare relevant docs "
   ]
  },
  {
   "cell_type": "code",
   "execution_count": 1159,
   "metadata": {},
   "outputs": [],
   "source": [
    "# load claims\n",
    "def load_dataset_json(path, instance_num=1e6):\n",
    "    \"\"\"\n",
    "    Reads the Fever Training set, returns list of examples.\n",
    "    instance_num: how many examples to load. Useful for debugging.\n",
    "    \"\"\"\n",
    "    data = []\n",
    "    with open(path, 'r') as openfile:\n",
    "        for iline, line in enumerate(openfile.readlines()):\n",
    "            data.append(json.loads(line))\n",
    "            if iline+1 >= instance_num:\n",
    "                break\n",
    "    return data\n",
    "path_windows = \"N:\\\\DesktopSettings\\\\Desktop\\\\DM_working\\\\dataset\\\\train.jsonl\"\n",
    "path_mac = \"/Users/cengqiqi/Desktop/DM_working/dataset/train.jsonl\"\n",
    "dataset = load_dataset_json(path=path_mac, instance_num=1500)\n",
    "\n",
    "claims = []\n",
    "for i in dataset:\n",
    "    if i['verifiable'] == 'VERIFIABLE':\n",
    "        claims.append(i)\n",
    "        \n",
    "# load doc\n",
    "path_windows = \"N:\\\\DesktopSettings\\\\Desktop\\\\DM_working\\\\dataset\\\\wiki_id_text\"\n",
    "path_mac = \"/Users/cengqiqi/Desktop/DM_working/dataset/wiki_id_text\"\n",
    "wikipage = pd.read_table(path_mac,header = None)\n",
    "\n",
    "with open('inverted_word_dictionary.txt', 'rb') as handle:\n",
    "    inverted_word_dictionary = pickle.loads(handle.read())\n",
    "    \n",
    "with open(\"doc_length_list.txt\", \"rb\") as fp:   # Unpickling\n",
    "    doc_length_list = pickle.load(fp)"
   ]
  },
  {
   "cell_type": "code",
   "execution_count": 754,
   "metadata": {},
   "outputs": [],
   "source": [
    "# methods to get the relevant documents (which are the same methods with that in Q2)\n",
    "\n",
    "def claimProcess(words):\n",
    "    #######  lower case  ############################################################\n",
    "    words = words.lower()\n",
    "    \n",
    "    ####### tokenize ###############################################################\n",
    "    pattern = r\"\"\"(?x)                  \n",
    "                          (?:[A-Z]\\.)+           # abbreviations, e.g. U.S.A. \n",
    "                          |\\$?\\d+(?:,\\d+)*(?:\\.\\d+)?%? # 2,000 or 2.5\n",
    "                          |\\w+(?:[-']\\w+)*      # words w/ optional internal hyphens/apostrophe  e.g. can't\n",
    "                        \"\"\"\n",
    "    word_list = nltk.regexp_tokenize(words, pattern)\n",
    "    \n",
    "    ####### remove stop words #######################################################\n",
    "    stopwordlist = set(stopwords.words('english'))\n",
    "    word_list = [w for w in word_list if w not in stopwordlist]\n",
    "   \n",
    "    ####### lemmatize ################################################################\n",
    "    word_list = [WordNetLemmatizer().lemmatize(w,pos = 'v') for w in word_list] # only Lancaster\n",
    "    \n",
    "\n",
    "    return word_list \n",
    "\n",
    "total_words = 289459793\n",
    "ave_length = 54\n",
    "\n",
    "def DirichletSmoothing(claim_wordlist):\n",
    "    \n",
    "    word_count_in_collection = []\n",
    "    for word_c in claim_wordlist:\n",
    "        if word_c in inverted_word_dictionary:\n",
    "            word_count_in_collection.append(np.sum(list(inverted_word_dictionary[word_c].values()))) \n",
    "        else:\n",
    "            word_count_in_collection.append(0.00000000000000000001) \n",
    "            \n",
    "    p_for_doc_list = []\n",
    "    for i in range(len(doc_length_list)):\n",
    "        logp = 0\n",
    "        for j in range(len(claim_wordlist)): \n",
    "            if doc_length_list[i]:\n",
    "                word_count_in_doc = inverted_word_dictionary[claim_wordlist[j]][\"doc\" + str(i)] if claim_wordlist[j] in inverted_word_dictionary and \"doc\" + str(i) in inverted_word_dictionary[claim_wordlist[j]] else 0\n",
    "                temp1 = (doc_length_list[i]/(doc_length_list[i]+ave_length))*(word_count_in_doc/doc_length_list[i])\n",
    "            else:\n",
    "                temp1 = 0\n",
    "            temp2 = (ave_length/(doc_length_list[i]+ave_length))*(word_count_in_collection[j]/total_words)\n",
    "            temp = temp1 + temp2\n",
    "            logp = logp+math.log(temp)\n",
    "      \n",
    "        p_for_doc_list.append(math.pow(math.e,logp))\n",
    "        \n",
    "                \n",
    "    return p_for_doc_list\n",
    "\n",
    "# # get the top 5 doc id for a single claim\n",
    "def getTop5(p_for_doc_list):\n",
    "\n",
    "    top_5_idx = np.argsort(p_for_doc_list)[-5:][::-1]\n",
    "    \n",
    "    return top_5_idx"
   ]
  },
  {
   "cell_type": "code",
   "execution_count": 57,
   "metadata": {
    "scrolled": true
   },
   "outputs": [
    {
     "data": {
      "application/vnd.jupyter.widget-view+json": {
       "model_id": "d3e0eac867694c9a9f9b24eac7e24ad8",
       "version_major": 2,
       "version_minor": 0
      },
      "text/plain": [
       "HBox(children=(IntProgress(value=0, max=400), HTML(value='')))"
      ]
     },
     "metadata": {},
     "output_type": "display_data"
    }
   ],
   "source": [
    "# get the top 5 relevant documents for the first 1000 claims (this cost around 15 hours)\n",
    "# write the results to q4_docs.csv\n",
    "\n",
    "for i in tqdm(range(0,1000)):\n",
    "    \n",
    "    claim_wordlist = claimProcess(claims[i]['claim'])\n",
    "    p_for_doc_list = DirichletSmoothing(claim_wordlist)\n",
    "    doc_id = getTop5(p_for_doc_list)\n",
    "\n",
    "    with open('q4_docs.csv', \"a\", newline='') as config_csv:\n",
    "        \n",
    "        list_save = [claims[i]['id']]\n",
    "        list_save.extend(wikipage[0][doc_id])\n",
    "        \n",
    "        writer = csv.writer(config_csv)\n",
    "        writer.writerow(list_save)"
   ]
  },
  {
   "cell_type": "code",
   "execution_count": 56,
   "metadata": {},
   "outputs": [
    {
     "data": {
      "text/plain": [
       "{'id': 92830,\n",
       " 'verifiable': 'VERIFIABLE',\n",
       " 'label': 'SUPPORTS',\n",
       " 'claim': 'Kurt Angle won a gold medal in freestyle wrestling at the 1995 World Wrestling Championships.',\n",
       " 'evidence': [[[110143, 123773, 'Kurt_Angle', 3]]]}"
      ]
     },
     "execution_count": 56,
     "metadata": {},
     "output_type": "execute_result"
    }
   ],
   "source": [
    "claims[599]"
   ]
  },
  {
   "cell_type": "markdown",
   "metadata": {},
   "source": [
    "<font face=\"微软雅黑\" size=6 color=#000000> 2. *Import Data and Models"
   ]
  },
  {
   "cell_type": "code",
   "execution_count": 5,
   "metadata": {},
   "outputs": [],
   "source": [
    "#load claims\n",
    "def load_dataset_json(path, instance_num=1e6):\n",
    "    \"\"\"\n",
    "    Reads the Fever Training set, returns list of examples.\n",
    "    instance_num: how many examples to load. Useful for debugging.\n",
    "    \"\"\"\n",
    "    data = []\n",
    "    with open(path, 'r') as openfile:\n",
    "        for iline, line in enumerate(openfile.readlines()):\n",
    "            data.append(json.loads(line))\n",
    "            if iline+1 >= instance_num:\n",
    "                break\n",
    "    return data\n",
    "path_windows = \"N:\\\\DesktopSettings\\\\Desktop\\\\DM_working\\\\dataset\\\\train.jsonl\"\n",
    "path_mac = \"/Users/cengqiqi/Desktop/DM_working/dataset/train.jsonl\"\n",
    "dataset = load_dataset_json(path=path_mac, instance_num=1500)\n",
    "\n",
    "claims = []\n",
    "for i in dataset:\n",
    "    if i['verifiable'] == 'VERIFIABLE':\n",
    "        claims.append(i)\n",
    "        "
   ]
  },
  {
   "cell_type": "code",
   "execution_count": 6,
   "metadata": {},
   "outputs": [],
   "source": [
    "# load relevant docs (which is got from 1. Prepare relevant docs  )\n",
    "with open('q4_docs.csv', 'r',encoding=\"utf-8\") as f:\n",
    "    reader = csv.reader(f)\n",
    "    doc_list = []\n",
    "    for row in reader:\n",
    "        doc_list.append(row)\n",
    "doc_dict = {line[0]:line[1:] for line in doc_list}"
   ]
  },
  {
   "cell_type": "code",
   "execution_count": 7,
   "metadata": {},
   "outputs": [],
   "source": [
    "# load docs id and text\n",
    "path_windows = \"N:\\\\DesktopSettings\\\\Desktop\\\\DM_working\\\\dataset\\\\wiki_id_text\"\n",
    "path_mac = \"/Users/cengqiqi/Desktop/DM_working/dataset/wiki_id_text\"\n",
    "wikipage = pd.read_table(path_mac,header = None)"
   ]
  },
  {
   "cell_type": "code",
   "execution_count": 8,
   "metadata": {},
   "outputs": [
    {
     "data": {
      "application/vnd.jupyter.widget-view+json": {
       "model_id": "64dcf4cedf434dcebe638e5bf8f2a17f",
       "version_major": 2,
       "version_minor": 0
      },
      "text/plain": [
       "HBox(children=(IntProgress(value=0, max=109), HTML(value='')))"
      ]
     },
     "metadata": {},
     "output_type": "display_data"
    },
    {
     "name": "stdout",
     "output_type": "stream",
     "text": [
      "\n"
     ]
    }
   ],
   "source": [
    "# load docs lines ()\n",
    "# format: doc_lines['Alphabetical_list_of_comunes_of_Italy'][1]\n",
    "\n",
    "def parse_wiki(wikipedia_dir):\n",
    "\n",
    "    # doc_id_text saves the title and content of each wiki-page\n",
    "    doc_id_text=dict()\n",
    "\n",
    "    for i in tqdm(range(1,110)):# jsonl file number from 001 to 109\n",
    "        jnum=\"{:03d}\".format(i)\n",
    "        fname=wikipedia_dir+\"wiki-\"+jnum+\".jsonl\"\n",
    "        with open(fname) as f:\n",
    "            # point=f.tell()# file pointer starting from 0\n",
    "            line=f.readline()\n",
    "            while line:\n",
    "                data=json.loads(line.rstrip(\"\\n\"))\n",
    "                doc_id=data[\"id\"] \n",
    "                text = data[\"text\"]\n",
    "                lines=data[\"lines\"]\n",
    "                if text != \"\":\n",
    "                    doclines = {}\n",
    "                    for l in lines.split(\"\\n\"):\n",
    "                        fields = l.split(\"\\t\")\n",
    "                        if fields[0].isnumeric():\n",
    "                            l_id = int(fields[0])\n",
    "                            l_txt = fields[1]\n",
    "                            doclines[l_id] = l_txt\n",
    "\n",
    "                    doc_id_text[doc_id]=doclines\n",
    "                # point=f.tell()\n",
    "                line=f.readline()\n",
    "\n",
    "    return doc_id_text\n",
    "\n",
    "wikipedia_dir = '/Users/cengqiqi/Desktop/DM_working/dataset/wiki-pages/wiki-pages/'\n",
    "\n",
    "doc_lines = parse_wiki(wikipedia_dir)"
   ]
  },
  {
   "cell_type": "code",
   "execution_count": 9,
   "metadata": {
    "scrolled": true
   },
   "outputs": [],
   "source": [
    "# # some docs lines are not a complete sentence\n",
    "# for x in doc_lines:\n",
    "#     if len(doc_lines[x])>10000:\n",
    "#         print(x)\n",
    "        \n",
    "# doc_lines['List_of_Wales_national_rugby_union_players']"
   ]
  },
  {
   "cell_type": "markdown",
   "metadata": {},
   "source": [
    "<font face=\"微软雅黑\" size=6 color=#000000> 3. Negative Sampling"
   ]
  },
  {
   "cell_type": "code",
   "execution_count": 22,
   "metadata": {},
   "outputs": [],
   "source": [
    "# for a single claim, get the positive and negative samples\n",
    "def posNegSampleListForAClaim(i,k,doc_dict,claims):\n",
    "    '''\n",
    "    this function helps to return a list in [positive_sentence_list,negative_sentence_list]\n",
    "    the parameter is the number of claims that you want to search on\n",
    "    '''\n",
    "    # for claim i, the positive sentence and negative sentence are showed below\n",
    "    \n",
    "    ### positive sentence\n",
    "    # positive_sentence_list = [[evi[2],evi[3]] for evi in np.array(claims[i]['evidence']).reshape(-1,4)]\n",
    "    positive_sentence_list = []\n",
    "    for cla_1 in claims[i]['evidence']:\n",
    "        for cla_2 in cla_1:\n",
    "            positive_sentence_list.append([cla_2[2],cla_2[3]])\n",
    "            \n",
    "    # remove duplicated sample\n",
    "    positive_sentence_list = [list(i) for i in set(tuple(i) for i in positive_sentence_list)]\n",
    "\n",
    "    \n",
    "    \n",
    "    ### negative sample\n",
    "    relevent_docs = doc_dict[str(claims[i]['id'])]\n",
    "    \n",
    "    temp_negative_sentence_list = []\n",
    "    for title in relevent_docs:\n",
    "        for sentence in doc_lines[title].keys():\n",
    "            if len(doc_lines[title][sentence]) > 0 and doc_lines[title][sentence][-1] in string.punctuation: # sample cannot be '', and it need to be ended by punctuation\n",
    "                temp_negative_sentence_list.append([title, sentence])\n",
    "            \n",
    "    for remove_pos_sentence in positive_sentence_list:\n",
    "        if remove_pos_sentence in temp_negative_sentence_list:\n",
    "            temp_negative_sentence_list.remove(remove_pos_sentence)\n",
    "            \n",
    "    negative_sentence_list = random.sample(temp_negative_sentence_list, min(k*len(positive_sentence_list),len(temp_negative_sentence_list)))\n",
    "\n",
    "    \n",
    "#     while len(negative_sentence_list) < len(positive_sentence_list)*7:\n",
    "        \n",
    "# #         title = random.choice(relevent_docs)\n",
    "# #         random_key = random.choice(list(doc_lines[title].keys()))\n",
    "# #         rand_item = items[random.randrange(len(items))]\n",
    "        \n",
    "#         title = relevent_docs[random.randrange(len(relevent_docs))]\n",
    "#         avalible_sentence = list(doc_lines[title].keys())\n",
    "#         random_key = avalible_sentence[random.randrange(len(avalible_sentence))]\n",
    "\n",
    "#         if len(doc_lines[title][random_key]) > 0:\n",
    "#             negative_sentence = [title,random_key]\n",
    "#             if (negative_sentence not in positive_sentence_list) and (negative_sentence not in negative_sentence_list):\n",
    "#                 negative_sentence_list.append(negative_sentence)\n",
    "\n",
    "    return [positive_sentence_list,negative_sentence_list]"
   ]
  },
  {
   "cell_type": "code",
   "execution_count": 23,
   "metadata": {
    "scrolled": false
   },
   "outputs": [],
   "source": [
    "# apply the posNegSampleListForAClaim to all claims\n",
    "def getSampleList(claims, sample_num,k,doc_dict):\n",
    "    '''\n",
    "    this function will return the positive sentences and negative sentences of the first 1000 verifiable claims\n",
    "    in format [[claim_id, positive_sentence, negative_sentence],...]\n",
    "    '''\n",
    "    pos_neg_sample_1000 = []\n",
    "    for i in tqdm(range(sample_num)):\n",
    "        temp = [claims[i]['id']]\n",
    "        temp.extend(posNegSampleListForAClaim(i,k,doc_dict,claims))\n",
    "        pos_neg_sample_1000.append(temp)\n",
    "    \n",
    "    return pos_neg_sample_1000\n",
    "   \n",
    "pos_neg_sample_1000 = getSampleList(claims, 1000, 1,doc_dict)"
   ]
  },
  {
   "cell_type": "code",
   "execution_count": 58,
   "metadata": {},
   "outputs": [],
   "source": [
    "# save the results\n",
    "with open('1000_sample_k1_train', 'wb') as f:\n",
    "    pickle.dump(pos_neg_sample_1000, f)"
   ]
  },
  {
   "cell_type": "code",
   "execution_count": 590,
   "metadata": {
    "scrolled": true
   },
   "outputs": [],
   "source": [
    "# with open('1000_sample') as f:\n",
    "#     print(pickle.load(f))"
   ]
  },
  {
   "cell_type": "code",
   "execution_count": 270,
   "metadata": {
    "scrolled": true
   },
   "outputs": [],
   "source": [
    "# for claim_sample in pos_neg_sample_1000_train[1:100]:\n",
    "#     for sentence in claim_sample[2]:\n",
    "#         print(doc_lines[sentence[0]][sentence[1]])\n",
    "#         print(' ')"
   ]
  },
  {
   "cell_type": "code",
   "execution_count": 158,
   "metadata": {},
   "outputs": [],
   "source": [
    "# pos_neg_sample_1000"
   ]
  },
  {
   "cell_type": "markdown",
   "metadata": {},
   "source": [
    "<font face=\"微软雅黑\" size=6 color=#000000> 4.* Sentence Embedding"
   ]
  },
  {
   "cell_type": "code",
   "execution_count": 10,
   "metadata": {
    "scrolled": true
   },
   "outputs": [
    {
     "name": "stdout",
     "output_type": "stream",
     "text": [
      "Loading Glove Model\n",
      "Done. 1917494  words loaded!\n"
     ]
    }
   ],
   "source": [
    "# import glove model \n",
    "def loadGloveModel(gloveFile):\n",
    "    print(\"Loading Glove Model\")\n",
    "    f = open(gloveFile,'r')\n",
    "    model = {}\n",
    "    for line in f:\n",
    "        splitLine = line.split()\n",
    "        word = splitLine[0]\n",
    "        embedding = np.array([float(val) for val in splitLine[1:]])\n",
    "        model[word] = embedding\n",
    "    print(\"Done.\",len(model),\" words loaded!\")\n",
    "    return model\n",
    "glove_model = loadGloveModel(\"/Users/cengqiqi/Desktop/DM_working/glove/glove.42B.300d.txt\")\n",
    "\n",
    "\n",
    "### this glove_model will be updated in sumPooling() method below"
   ]
  },
  {
   "cell_type": "code",
   "execution_count": 11,
   "metadata": {},
   "outputs": [],
   "source": [
    "# process the sentence (to a word list before embedding)\n",
    "def sentenceProcess(sentence):\n",
    "    #######  lower case  ############################################################\n",
    "    sentence = sentence.lower()\n",
    "    \n",
    "    ####### tokenize ###############################################################\n",
    "    pattern = r\"\"\"(?x)                  \n",
    "                          (?:[A-Z]\\.)+           # abbreviations, e.g. U.S.A. \n",
    "                          |\\$?\\d+(?:,\\d+)*(?:\\.\\d+)?%? # 2,000 or 2.5\n",
    "                          |\\w+(?:[-']\\w+)*      # words w/ optional internal hyphens/apostrophe  e.g. can't\n",
    "                        \"\"\"\n",
    "    word_list = nltk.regexp_tokenize(sentence, pattern)\n",
    "    \n",
    "    \n",
    "    ####### remove rrb #############################################################\n",
    "#     for word in word_list:\n",
    "#         if word in ['rrb', 'lrb','lsb','rsb']:\n",
    "#             word_list.remove(word)\n",
    "    \n",
    "    ### do not remove stopwords in this case\n",
    "    ####### remove stop words #######################################################\n",
    "#     stopwordlist = set(stopwords.words('english'))\n",
    "#     word_list = [w for w in word_list if w not in stopwordlist]\n",
    "   \n",
    "    ####### lemmatize ################################################################\n",
    "    word_list = [WordNetLemmatizer().lemmatize(w,pos = 'v') for w in word_list] # only Lancaster\n",
    "    \n",
    "    return word_list "
   ]
  },
  {
   "cell_type": "code",
   "execution_count": 12,
   "metadata": {
    "scrolled": false
   },
   "outputs": [],
   "source": [
    "# convert words to vectors and sum pooling\n",
    "def sumPooling(sentence):\n",
    "    \n",
    "    #you need to set a threshold filtering out less frequent words or set these out-of-vocabulary words as a special symbol.\n",
    "    \n",
    "    words_list = sentenceProcess(sentence)\n",
    "    sentence_vector = np.zeros(len(glove_model['i']),) \n",
    "    \n",
    "    count = 0\n",
    "    for word in words_list:\n",
    "        if word in glove_model:\n",
    "            v = glove_model[word]\n",
    "            count += 1\n",
    "        else:\n",
    "            # if word not in glove model, update glove model\n",
    "            embedding_model = Word2Vec([[word]], size=300, window=5, min_count=1, workers=2)\n",
    "            additional_word = {w: vec for w, vec in zip(embedding_model.wv.index2word, embedding_model.wv.vectors)}\n",
    "            glove_model.update(additional_word)\n",
    "            v = glove_model[word]\n",
    "        sentence_vector += v\n",
    "        \n",
    "    return sentence_vector\n",
    "\n",
    "# # convert words to vectors and sum pooling\n",
    "# def sumPooling(sentence):\n",
    "    \n",
    "#     #you need to set a threshold filtering out less frequent words or set these out-of-vocabulary words as a special symbol.\n",
    "    \n",
    "#     words_list = sentenceProcess(sentence)\n",
    "#     sentence_vector = np.zeros(len(glove_model['i']),) \n",
    "    \n",
    "#     count = 0\n",
    "#     for word in words_list:\n",
    "#         if word in glove_model:\n",
    "#             v = glove_model[word]\n",
    "#             count += 1\n",
    "#         else:\n",
    "#             v = sentence_vector\n",
    "#         sentence_vector += v\n",
    "#     return sentence_vector"
   ]
  },
  {
   "cell_type": "code",
   "execution_count": 13,
   "metadata": {},
   "outputs": [
    {
     "data": {
      "text/plain": [
       "(300,)"
      ]
     },
     "execution_count": 13,
     "metadata": {},
     "output_type": "execute_result"
    }
   ],
   "source": [
    "np.zeros(len(glove_model['i']),).shape"
   ]
  },
  {
   "cell_type": "code",
   "execution_count": 14,
   "metadata": {},
   "outputs": [],
   "source": [
    "# load sentence sample (which is got from 3. Negative Sampling)\n",
    "f = open('1000_sample_k1_train','rb')\n",
    "pos_neg_sample_1000_train = pickle.load(f)\n",
    "f.close()"
   ]
  },
  {
   "cell_type": "code",
   "execution_count": 16,
   "metadata": {},
   "outputs": [
    {
     "data": {
      "application/vnd.jupyter.widget-view+json": {
       "model_id": "567b3c45feb64f2eae52f6f251bd0c75",
       "version_major": 2,
       "version_minor": 0
      },
      "text/plain": [
       "HBox(children=(IntProgress(value=0, max=1000), HTML(value='')))"
      ]
     },
     "metadata": {},
     "output_type": "display_data"
    },
    {
     "name": "stdout",
     "output_type": "stream",
     "text": [
      "the positive sentence 0 in José_María_Chacón is skipped due to some problems\n",
      "the positive sentence 0 in Régine_Chassagne is skipped due to some problems\n",
      "the positive sentence 0 in Chris_Pérez is skipped due to some problems\n",
      "the positive sentence 24 in Chris_Pérez is skipped due to some problems\n",
      "the positive sentence 15 in Beyoncé is skipped due to some problems\n",
      "the positive sentence 16 in Beyoncé is skipped due to some problems\n",
      "the positive sentence 0 in Frédéric_Auguste_Bartholdi is skipped due to some problems\n",
      "(3833, 600)\n",
      "(3833,)\n"
     ]
    }
   ],
   "source": [
    "# prepare input, change sentence sample to input vectors\n",
    "def prepareInput(claims, pos_neg_sample):\n",
    "    \n",
    "    claim_m = np.empty((0,len(glove_model['i'])), int)\n",
    "    sentence_m = np.empty((0,len(glove_model['i'])), int)\n",
    "    input_y = np.empty((0,1),int)\n",
    "\n",
    "    for i in tqdm(range(len(pos_neg_sample))):\n",
    "        sample = pos_neg_sample[i]\n",
    "\n",
    "        if sample[0] == claims[i]['id']: # ensure the same row\n",
    "\n",
    "            # claim\n",
    "            claim_v = sumPooling(claims[i]['claim'])\n",
    "\n",
    "            # positive sentence\n",
    "            for pos in sample[1]:\n",
    "                try:\n",
    "                    pos_v = sumPooling(doc_lines[pos[0]][pos[1]])\n",
    "                except:\n",
    "                    print(f'the positive sentence {pos[1]} in {pos[0]} is skipped due to some problems')\n",
    "                else:\n",
    "                    claim_m = np.append(claim_m, claim_v[np.newaxis], axis=0)\n",
    "                    sentence_m = np.append(sentence_m,pos_v[np.newaxis], axis=0)\n",
    "                    input_y = np.append(input_y,[[1]], axis=0)\n",
    "            # negative sentence    \n",
    "            for neg in sample[2]:\n",
    "                try:\n",
    "                    neg_v = sumPooling(doc_lines[neg[0]][neg[1]])\n",
    "                except:\n",
    "                    print(f'the negative sentence {neg[1]} in {neg[0]} is skipped due to some problems')\n",
    "                else:\n",
    "                    claim_m = np.append(claim_m, claim_v[np.newaxis], axis=0)\n",
    "                    sentence_m = np.append(sentence_m,neg_v[np.newaxis], axis=0)\n",
    "                    input_y = np.append(input_y,[[0]], axis=0)\n",
    "                  \n",
    "        input_x = np.concatenate((claim_m, sentence_m), axis=1)  #10*100\n",
    "        #input_x = claim_m+sentence_m\n",
    "        \n",
    "    input_y = np.squeeze(input_y)\n",
    "    \n",
    "    return [input_x, input_y]\n",
    "\n",
    "\n",
    "input_x, input_y = prepareInput(claims, pos_neg_sample_1000_train)\n",
    "\n",
    "print(input_x.shape)\n",
    "print(input_y.shape)"
   ]
  },
  {
   "cell_type": "markdown",
   "metadata": {},
   "source": [
    "<font face=\"微软雅黑\" size=6 color=#000000> 5. *Logistic Regression"
   ]
  },
  {
   "cell_type": "code",
   "execution_count": 430,
   "metadata": {},
   "outputs": [],
   "source": [
    "# #Logistic Regression Model without learning rate (using Second-order minimization)\n",
    "\n",
    "# This is not applicable to this question cause we need to discuss the impact of learning rate\n",
    "\n",
    "# # sigmoid\n",
    "# def sigmoid(z):\n",
    "#     return 1/(np.exp(-z) + 1)\n",
    " \n",
    "# # R for hessian matrix\n",
    "# def R(input_x, theta):\n",
    "#     '''This function will return the R for Hessian matrix '''\n",
    "#     diag_R = list(range(input_x.shape[0]))\n",
    "#     for i in range(input_x.shape[0]):\n",
    "#         diag_R[i] = float(sigmoid(input_x[i]@theta)*(1-sigmoid(input_x[i]@theta)))\n",
    "#     R = np.diag(diag_R)\n",
    "#     return R\n",
    "\n",
    "# def norm(w):\n",
    "#     return np.sqrt(np.dot(w.T,w))   \n",
    "\n",
    "# def LRmodel(input_x, input_y, initial_theta, alpha, num_iters):\n",
    "    \n",
    "#     input_y = np.squeeze(input_y)\n",
    "    \n",
    "#     # Gradient Descent\n",
    "#     J_history = []\n",
    "#     theta = initial_theta\n",
    "#     current_iter = 0\n",
    "#     for iter in tqdm(range(num_iters)):\n",
    "        \n",
    "#         current_iter+=1\n",
    "        \n",
    "#         # cost J and grad\n",
    "#         m = input_x.shape[0]\n",
    "#         hx = sigmoid(input_x@theta)\n",
    "#         J = -1/m*np.sum(input_y*np.log(hx) + (1-input_y)*np.log(1-hx),axis=0) \n",
    "        \n",
    "#         grad = 1/m*(input_x.T@(hx-input_y))\n",
    "#         hessian = input_x.T@R(input_x, theta)@input_x\n",
    "\n",
    "#         # update theta\n",
    "#         theta_new = theta - np.linalg.inv(hessian)@grad\n",
    "#         if norm(theta_new - theta) < 0.001*norm(theta_new):\n",
    "#             break\n",
    "#         else:\n",
    "#             theta = theta_new\n",
    "            \n",
    "#         J_history.append(J)\n",
    "        \n",
    "#     return [theta, J_history, current_iter]"
   ]
  },
  {
   "cell_type": "code",
   "execution_count": 17,
   "metadata": {},
   "outputs": [],
   "source": [
    "#Logistic Regression Model\n",
    "\n",
    "# sigmoid\n",
    "def sigmoid(z):\n",
    "    return 1./(1.+ np.exp(-z))\n",
    "\n",
    "# feature normalization\n",
    "def normalization(input_x):\n",
    "\n",
    "    mean_100 = np.mean(input_x, axis = 0)\n",
    "    max_100 = np.std(input_x, axis = 0)\n",
    "\n",
    "    x_normolized = (input_x-mean_100)/max_100\n",
    "    \n",
    "    return x_normolized\n",
    "\n",
    "\n",
    "def LRmodel(input_x, input_y, initial_theta, alpha, num_iters):\n",
    "    \n",
    "    input_x = normalization(input_x)\n",
    "    \n",
    "    # Gradient Descent\n",
    "    J_history = []\n",
    "    theta = initial_theta\n",
    "    current_iter = 0\n",
    "    for iter in tqdm(range(num_iters)):\n",
    "        \n",
    "        # count iteration\n",
    "        current_iter += 1\n",
    "        \n",
    "        # get the total input length and call sigmoid function\n",
    "        m = input_x.shape[0]\n",
    "        hx = sigmoid(input_x@theta)\n",
    "        \n",
    "        # cost J (avoid overflow of exp() )\n",
    "        #J = -1/m*(np.sum(input_y*np.log(hx)+(1-input_y)*np.log(1-hx),axis=0))\n",
    "        x = input_x@theta\n",
    "        mask_pos = x>=0\n",
    "        mask_neg = x<0\n",
    "        x_pos = x*mask_pos\n",
    "        x_neg = x*mask_neg\n",
    "\n",
    "        J_posx = 1/m*(np.log(1+np.exp(-x_pos)) + (1-input_y)*x_pos)*mask_pos\n",
    "        J_negx = 1/m*(np.log(np.exp(x_neg)+1)-input_y*x_neg)*mask_neg\n",
    "        J = np.sum(J_posx + J_negx) + 1/(2*m)*np.dot(theta, theta)### regularization\n",
    "\n",
    "        # grad\n",
    "        grad = 1/m*(input_x.T@(hx-input_y)) + 1/m*theta ### regularization\n",
    "           \n",
    "        # update theta\n",
    "        theta = theta - alpha*grad\n",
    "        \n",
    "        # break when there is only little decrease in cost\n",
    "        if J_history and abs(J_history[-1] - J)< 0.00000001:\n",
    "            break\n",
    "            \n",
    "        J_history.append(J)\n",
    "        \n",
    "    return [theta, J_history, current_iter]"
   ]
  },
  {
   "cell_type": "code",
   "execution_count": 670,
   "metadata": {
    "scrolled": false
   },
   "outputs": [
    {
     "data": {
      "application/vnd.jupyter.widget-view+json": {
       "model_id": "8072c19002884584be284711bbb62ee5",
       "version_major": 2,
       "version_minor": 0
      },
      "text/plain": [
       "HBox(children=(IntProgress(value=0, max=10000), HTML(value='')))"
      ]
     },
     "metadata": {},
     "output_type": "display_data"
    }
   ],
   "source": [
    "# train the models and get results\n",
    "alpha = 0.1\n",
    "initial_theta = np.zeros(input_x.shape[1], int)\n",
    "num_iters = 10000\n",
    "\n",
    "# train model\n",
    "theta, J_history, current_iter= LRmodel(input_x, input_y, initial_theta, alpha, num_iters)"
   ]
  },
  {
   "cell_type": "code",
   "execution_count": 671,
   "metadata": {
    "scrolled": false
   },
   "outputs": [
    {
     "data": {
      "text/plain": [
       "[<matplotlib.lines.Line2D at 0x1c0797c4e0>]"
      ]
     },
     "execution_count": 671,
     "metadata": {},
     "output_type": "execute_result"
    },
    {
     "data": {
      "image/png": "[encoded data removed]",
      "text/plain": [
       "<Figure size 432x288 with 1 Axes>"
      ]
     },
     "metadata": {},
     "output_type": "display_data"
    }
   ],
   "source": [
    "# visualisation for cost J\n",
    "plt.plot(J_history)"
   ]
  },
  {
   "cell_type": "code",
   "execution_count": 614,
   "metadata": {},
   "outputs": [],
   "source": [
    "# top5 = np.argsort(prediction_y)[-5:][::-1]\n",
    "# relevent_bool = np.array((prediction_y > 0.5), dtype=int)\n",
    "\n",
    "# # to calculate accuracy, compare prediction_y and validation_y"
   ]
  },
  {
   "cell_type": "markdown",
   "metadata": {},
   "source": [
    "<font face=\"微软雅黑\" size=6 color=#000000> 6. *Evaluation"
   ]
  },
  {
   "cell_type": "code",
   "execution_count": 19,
   "metadata": {},
   "outputs": [],
   "source": [
    "# import validation claims\n",
    "path_windows = \"N:\\\\DesktopSettings\\\\Desktop\\\\DM_working\\\\dataset\\\\dev.jsonl\"\n",
    "path_mac = \"/Users/cengqiqi/Desktop/DM_working/dataset/dev.jsonl\"\n",
    "dataset = load_dataset_json(path=path_mac, instance_num=20)\n",
    "\n",
    "claims_dev = []\n",
    "for i in dataset:\n",
    "    if i['verifiable'] == 'VERIFIABLE':\n",
    "        claims_dev.append(i)\n",
    "claims_dev = claims_dev[0:10]"
   ]
  },
  {
   "cell_type": "code",
   "execution_count": 20,
   "metadata": {},
   "outputs": [],
   "source": [
    "# # get relavent docs for 10 dev claims\n",
    "\n",
    "# for i in tqdm(range(10)):\n",
    "    \n",
    "#     claim_wordlist = claimProcess(claims_dev[i]['claim'])\n",
    "#     p_for_doc_list = DirichletSmoothing(claim_wordlist)\n",
    "#     doc_id = getTop5(p_for_doc_list)\n",
    "\n",
    "#     with open('q4_relavent_docs_dev.csv', \"a\", newline='') as config_csv:\n",
    "        \n",
    "#         list_save = [claims_dev[i]['id']]\n",
    "#         list_save.extend(wikipage[0][doc_id])\n",
    "        \n",
    "#         writer = csv.writer(config_csv)\n",
    "#         writer.writerow(list_save)\n",
    "\n",
    "with open('q4_relavent_docs_dev.csv', 'r',encoding=\"utf-8\") as f:\n",
    "    reader = csv.reader(f)\n",
    "    doc_dev = []\n",
    "    for row in reader:\n",
    "        doc_dev.append(row)\n",
    "dev_dict = {line[0]:line[1:] for line in doc_dev}"
   ]
  },
  {
   "cell_type": "code",
   "execution_count": 24,
   "metadata": {
    "scrolled": false
   },
   "outputs": [
    {
     "data": {
      "application/vnd.jupyter.widget-view+json": {
       "model_id": "c1ca0d9384d24048bd36bd7c4337487f",
       "version_major": 2,
       "version_minor": 0
      },
      "text/plain": [
       "HBox(children=(IntProgress(value=0, max=10), HTML(value='')))"
      ]
     },
     "metadata": {},
     "output_type": "display_data"
    }
   ],
   "source": [
    "# get all the avaliable sentence in validation set (no nagative sampling)\n",
    "def allPotentialSentenceForADoc(i,dev_dict,claims_dev):\n",
    "    '''\n",
    "    this function helps to return a list in [positive_sentence_list,negative_sentence_list]\n",
    "    the parameter is the number of claims that you want to search on\n",
    "    '''\n",
    "    # for claim i, the positive sentence and negative sentence are showed below\n",
    "    \n",
    "    ### positive sentence\n",
    "    # positive_sentence_list = [[evi[2],evi[3]] for evi in np.array(claims[i]['evidence']).reshape(-1,4)]\n",
    "    positive_sentence_list = []\n",
    "    for cla_1 in claims_dev[i]['evidence']:\n",
    "        for cla_2 in cla_1:\n",
    "            positive_sentence_list.append([cla_2[2],cla_2[3]])\n",
    "            \n",
    "    # remove duplicated sample\n",
    "    positive_sentence_list = [list(i) for i in set(tuple(i) for i in positive_sentence_list)]\n",
    "   \n",
    "    ### negative sample\n",
    "    relevent_docs = dev_dict[str(claims_dev[i]['id'])]\n",
    "    \n",
    "    temp_negative_sentence_list = []\n",
    "    for title in relevent_docs:\n",
    "        for sentence in doc_lines[title].keys():\n",
    "            if len(doc_lines[title][sentence]) > 0 and doc_lines[title][sentence][-1] in string.punctuation: # sample cannot be '', and it need to be ended by punctuation\n",
    "                temp_negative_sentence_list.append([title, sentence])\n",
    "            \n",
    "    for remove_pos_sentence in positive_sentence_list:\n",
    "        if remove_pos_sentence in temp_negative_sentence_list:\n",
    "            temp_negative_sentence_list.remove(remove_pos_sentence)\n",
    "            \n",
    "    negative_sentence_list = temp_negative_sentence_list\n",
    "\n",
    "    return [positive_sentence_list,negative_sentence_list]\n",
    "\n",
    "def getDevSampleList(claims_dev, sample_num,dev_dict):\n",
    "    \n",
    "    pos_neg_sample_1000 = []\n",
    "    for i in tqdm(range(sample_num)):\n",
    "        temp = [claims_dev[i]['id']]\n",
    "        temp.extend(allPotentialSentenceForADoc(i,dev_dict,claims_dev))\n",
    "        pos_neg_sample_1000.append(temp)\n",
    "    \n",
    "    return pos_neg_sample_1000\n",
    "\n",
    "### unbalanced test data\n",
    "#sample_10_dev = getDevSampleList(claims_dev,10,dev_dict)\n",
    "\n",
    "### balanced test data\n",
    "sample_10_dev = getSampleList(claims_dev, 10,1, dev_dict)"
   ]
  },
  {
   "cell_type": "code",
   "execution_count": 25,
   "metadata": {},
   "outputs": [
    {
     "data": {
      "application/vnd.jupyter.widget-view+json": {
       "model_id": "2d9f6260ed3e4851932f786dba47f0b5",
       "version_major": 2,
       "version_minor": 0
      },
      "text/plain": [
       "HBox(children=(IntProgress(value=0, max=10), HTML(value='')))"
      ]
     },
     "metadata": {},
     "output_type": "display_data"
    },
    {
     "name": "stdout",
     "output_type": "stream",
     "text": [
      "postive sample:  18\n",
      "total sample:  36\n"
     ]
    }
   ],
   "source": [
    "# embedding\n",
    "validation_x, validation_y = prepareInput(claims_dev, sample_10_dev)\n",
    "\n",
    "print('postive sample: ', sum(validation_y))\n",
    "print('total sample: ', len(validation_y))"
   ]
  },
  {
   "cell_type": "code",
   "execution_count": 676,
   "metadata": {},
   "outputs": [],
   "source": [
    "\n",
    "# ### with feature normalisation\n",
    "\n",
    "# predict on train data\n",
    "predict_y_temp = sigmoid(normalization(input_x)@theta) >=0.5\n",
    "predict_y = np.array(predict_y_temp, dtype=int)\n",
    "\n",
    "# predict on dev data\n",
    "predict_dev_temp = sigmoid(normalization(validation_x)@theta) >= 0.5\n",
    "predict_dev = np.array(predict_dev_temp, dtype=int)\n",
    "\n",
    "\n",
    "# ### without feature normalisation\n",
    "\n",
    "# # predict on train data \n",
    "# predict_y_temp = sigmoid(input_x@theta) >=0.5\n",
    "# predict_y = np.array(predict_y_temp, dtype=int)\n",
    "\n",
    "# # predict on dev data\n",
    "# predict_dev_temp = sigmoid(validation_x@theta) >= 0.5\n",
    "# predict_dev = np.array(predict_dev_temp, dtype=int)\n"
   ]
  },
  {
   "cell_type": "code",
   "execution_count": 677,
   "metadata": {},
   "outputs": [
    {
     "name": "stdout",
     "output_type": "stream",
     "text": [
      "Accuracy on train:  0.7357161492303679\n",
      "Accuracy on dev:  0.75\n"
     ]
    }
   ],
   "source": [
    "# accuracy (not a good measure)\n",
    "# predict on train data \n",
    "temp1 = predict_y == input_y\n",
    "print('Accuracy on train: ', sum(temp1)/len(input_y))\n",
    "\n",
    "input_y\n",
    "temp2 = predict_dev == validation_y\n",
    "print('Accuracy on dev: ', np.sum(temp2)/len(predict_dev))"
   ]
  },
  {
   "cell_type": "code",
   "execution_count": 678,
   "metadata": {},
   "outputs": [],
   "source": [
    "# test data\n",
    "# from sklearn.datasets import load_iris\n",
    "# from sklearn.linear_model import LogisticRegression\n",
    "\n",
    "# clf = LogisticRegression(random_state=0, solver='lbfgs', multi_class='multinomial').fit(input_x, input_y)\n",
    "# predict_y = clf.predict(input_x)\n",
    "# predict_dev = clf.predict(validation_x)"
   ]
  },
  {
   "cell_type": "code",
   "execution_count": 679,
   "metadata": {
    "scrolled": true
   },
   "outputs": [
    {
     "name": "stdout",
     "output_type": "stream",
     "text": [
      "recall on trian:  0.7565415244596132\n",
      "precision on train:  0.6945169712793734\n",
      "f1 score on train:  0.7242036482439423\n",
      " \n",
      "recall on dev:  0.7647058823529411\n",
      "precision on dev:  0.7222222222222222\n",
      "f1 score on dev:  0.7428571428571428\n"
     ]
    }
   ],
   "source": [
    "# TP, FP, TN, FN\n",
    "\n",
    "def recallPrecisionF1(predict, actural):\n",
    "\n",
    "    tp = sum(actural*(predict == actural))\n",
    "    fp = sum(actural*(predict != actural))\n",
    "    tn = sum((1-actural)*(predict == actural))\n",
    "    fn = sum((1-actural)*(predict != actural))\n",
    "\n",
    "    recall = tp/(tp+fn)\n",
    "    precision = tp/(tp+fp)\n",
    "    f1_score = 2*(precision*recall)/(precision+recall)\n",
    "    \n",
    "    return [recall, precision, f1_score]\n",
    "\n",
    "recall, precision, f1_score =  recallPrecisionF1(predict_y, input_y)\n",
    "print('recall on trian: ', recall)\n",
    "print('precision on train: ', precision)\n",
    "print('f1 score on train: ', f1_score)\n",
    "print(' ')\n",
    "\n",
    "recall, precision, f1_score =  recallPrecisionF1(predict_dev, validation_y)\n",
    "\n",
    "print('recall on dev: ', recall)\n",
    "print('precision on dev: ', precision)\n",
    "print('f1 score on dev: ', f1_score)\n"
   ]
  },
  {
   "cell_type": "markdown",
   "metadata": {},
   "source": [
    "<font face=\"微软雅黑\" size=6 color=#000000> 7. *Learning Rate Analysis"
   ]
  },
  {
   "cell_type": "code",
   "execution_count": 30,
   "metadata": {},
   "outputs": [
    {
     "data": {
      "application/vnd.jupyter.widget-view+json": {
       "model_id": "0e1c2d93fc674081b2135230731dcc7e",
       "version_major": 2,
       "version_minor": 0
      },
      "text/plain": [
       "HBox(children=(IntProgress(value=0, max=10000), HTML(value='')))"
      ]
     },
     "metadata": {},
     "output_type": "display_data"
    },
    {
     "data": {
      "application/vnd.jupyter.widget-view+json": {
       "model_id": "c001ba72b50d4798b300c20f11e5781c",
       "version_major": 2,
       "version_minor": 0
      },
      "text/plain": [
       "HBox(children=(IntProgress(value=0, max=10000), HTML(value='')))"
      ]
     },
     "metadata": {},
     "output_type": "display_data"
    },
    {
     "data": {
      "application/vnd.jupyter.widget-view+json": {
       "model_id": "b0356ffc008649d29c27c363c11fe906",
       "version_major": 2,
       "version_minor": 0
      },
      "text/plain": [
       "HBox(children=(IntProgress(value=0, max=10000), HTML(value='')))"
      ]
     },
     "metadata": {},
     "output_type": "display_data"
    },
    {
     "data": {
      "image/png": "[encoded data removed]",
      "text/plain": [
       "<Figure size 1080x288 with 3 Axes>"
      ]
     },
     "metadata": {},
     "output_type": "display_data"
    }
   ],
   "source": [
    "n = 0\n",
    "sns.set(color_codes=True)\n",
    "plt.figure(figsize=(15, 4))\n",
    "\n",
    "for alpha in [0.01,0.1,0.5]:\n",
    "    \n",
    "    n+=1\n",
    "    \n",
    "    # train the models and get results\n",
    "    initial_theta = np.zeros(input_x.shape[1], int)\n",
    "    num_iters = 10000 #20000\n",
    "\n",
    "    # train model\n",
    "    theta, J_history, current_iter= LRmodel(input_x, input_y, initial_theta, alpha, num_iters)\n",
    "    \n",
    "    plt.subplot(1,3,n)\n",
    "    plt.plot(J_history)\n",
    "    plt.title(f'learning rate = {alpha}', fontsize=18)\n",
    "    plt.xlabel('iterations', fontsize=15)\n",
    "    plt.ylabel('training loss', fontsize=15)\n",
    "    \n",
    "    plt.savefig(os.path.join('figures', 'impact_of_learning_rate.png'), format='png', dpi=300)"
   ]
  },
  {
   "cell_type": "markdown",
   "metadata": {},
   "source": [
    "<font face=\"微软雅黑\" size=6 color=#000000>Q5"
   ]
  },
  {
   "cell_type": "markdown",
   "metadata": {},
   "source": [
    "<font face=\"微软雅黑\" size=6 color=#000000> recall, precision and F1 metrics"
   ]
  },
  {
   "cell_type": "markdown",
   "metadata": {},
   "source": [
    "<font face=\"微软雅黑\" size=6 color=#000000> on balanced data "
   ]
  },
  {
   "cell_type": "code",
   "execution_count": 684,
   "metadata": {},
   "outputs": [
    {
     "data": {
      "application/vnd.jupyter.widget-view+json": {
       "model_id": "dc4d26d1e2fa411882efde1a70dca727",
       "version_major": 2,
       "version_minor": 0
      },
      "text/plain": [
       "HBox(children=(IntProgress(value=0, max=10), HTML(value='')))"
      ]
     },
     "metadata": {},
     "output_type": "display_data"
    },
    {
     "data": {
      "application/vnd.jupyter.widget-view+json": {
       "model_id": "7706d3508cb74a6e89a5fda61bc2b055",
       "version_major": 2,
       "version_minor": 0
      },
      "text/plain": [
       "HBox(children=(IntProgress(value=0, max=10), HTML(value='')))"
      ]
     },
     "metadata": {},
     "output_type": "display_data"
    }
   ],
   "source": [
    "### balanced test data\n",
    "sample_10_dev = getSampleList(claims_dev, 10,1, dev_dict)\n",
    "validation_x, validation_y = prepareInput(claims_dev, sample_10_dev)"
   ]
  },
  {
   "cell_type": "code",
   "execution_count": 685,
   "metadata": {},
   "outputs": [],
   "source": [
    "# predict on train data\n",
    "predict_y_temp = sigmoid(normalization(input_x)@theta) >=0.5\n",
    "predict_y = np.array(predict_y_temp, dtype=int)\n",
    "\n",
    "# predict on dev data\n",
    "predict_dev_temp = sigmoid(normalization(validation_x)@theta) >= 0.5\n",
    "predict_dev = np.array(predict_dev_temp, dtype=int)\n"
   ]
  },
  {
   "cell_type": "code",
   "execution_count": 686,
   "metadata": {},
   "outputs": [
    {
     "name": "stdout",
     "output_type": "stream",
     "text": [
      "Accuracy on train:  0.7357161492303679\n",
      "Accuracy on dev:  0.7777777777777778\n"
     ]
    }
   ],
   "source": [
    "# accuracy (not a good measure)\n",
    "# predict on train data \n",
    "temp1 = predict_y == input_y\n",
    "print('Accuracy on train: ', sum(temp1)/len(input_y))\n",
    "\n",
    "input_y\n",
    "temp2 = predict_dev == validation_y\n",
    "print('Accuracy on dev: ', np.sum(temp2)/len(predict_dev))"
   ]
  },
  {
   "cell_type": "code",
   "execution_count": 687,
   "metadata": {},
   "outputs": [
    {
     "name": "stdout",
     "output_type": "stream",
     "text": [
      "recall on trian:  0.7565415244596132\n",
      "precision on train:  0.6945169712793734\n",
      "f1 score on train:  0.7242036482439423\n",
      " \n",
      "recall on dev:  0.8125\n",
      "precision on dev:  0.7222222222222222\n",
      "f1 score on dev:  0.7647058823529411\n"
     ]
    }
   ],
   "source": [
    "# TP, FP, TN, FN\n",
    "\n",
    "def recallPrecisionF1(predict, actural):\n",
    "\n",
    "    tp = sum(actural*(predict == actural))\n",
    "    fp = sum(actural*(predict != actural))\n",
    "    tn = sum((1-actural)*(predict == actural))\n",
    "    fn = sum((1-actural)*(predict != actural))\n",
    "\n",
    "    recall = tp/(tp+fn)\n",
    "    precision = tp/(tp+fp)\n",
    "    f1_score = 2*(precision*recall)/(precision+recall)\n",
    "    \n",
    "    return [recall, precision, f1_score]\n",
    "\n",
    "recall, precision, f1_score =  recallPrecisionF1(predict_y, input_y)\n",
    "print('recall on trian: ', recall)\n",
    "print('precision on train: ', precision)\n",
    "print('f1 score on train: ', f1_score)\n",
    "print(' ')\n",
    "\n",
    "recall, precision, f1_score =  recallPrecisionF1(predict_dev, validation_y)\n",
    "\n",
    "print('recall on dev: ', recall)\n",
    "print('precision on dev: ', precision)\n",
    "print('f1 score on dev: ', f1_score)"
   ]
  },
  {
   "cell_type": "markdown",
   "metadata": {},
   "source": [
    "<font face=\"微软雅黑\" size=6 color=#000000> on unbalanced data"
   ]
  },
  {
   "cell_type": "code",
   "execution_count": 35,
   "metadata": {},
   "outputs": [
    {
     "data": {
      "application/vnd.jupyter.widget-view+json": {
       "model_id": "9d1ec42829ba4689812c41f13610a479",
       "version_major": 2,
       "version_minor": 0
      },
      "text/plain": [
       "HBox(children=(IntProgress(value=0, max=10), HTML(value='')))"
      ]
     },
     "metadata": {},
     "output_type": "display_data"
    },
    {
     "data": {
      "application/vnd.jupyter.widget-view+json": {
       "model_id": "1009348de72e4b83b927696a721fb3e5",
       "version_major": 2,
       "version_minor": 0
      },
      "text/plain": [
       "HBox(children=(IntProgress(value=0, max=10), HTML(value='')))"
      ]
     },
     "metadata": {},
     "output_type": "display_data"
    },
    {
     "name": "stdout",
     "output_type": "stream",
     "text": [
      "postive sample:  18\n",
      "negative sample:  256\n"
     ]
    }
   ],
   "source": [
    "### unbalanced test data\n",
    "sample_10_dev = getDevSampleList(claims_dev,10,dev_dict)\n",
    "validation_x, validation_y = prepareInput(claims_dev, sample_10_dev)\n",
    "\n",
    "\n",
    "print('postive sample: ', sum(validation_y))\n",
    "print('negative sample: ', len(validation_y)-sum(validation_y))"
   ]
  },
  {
   "cell_type": "code",
   "execution_count": 689,
   "metadata": {},
   "outputs": [],
   "source": [
    "# predict on dev data\n",
    "predict_dev_temp = sigmoid(normalization(validation_x)@theta) >= 0.5\n",
    "predict_dev = np.array(predict_dev_temp, dtype=int)"
   ]
  },
  {
   "cell_type": "code",
   "execution_count": 690,
   "metadata": {},
   "outputs": [
    {
     "name": "stdout",
     "output_type": "stream",
     "text": [
      "Accuracy on train:  0.7357161492303679\n",
      "Accuracy on dev:  0.6167883211678832\n"
     ]
    }
   ],
   "source": [
    "# accuracy (not a good measure)\n",
    "# predict on train data \n",
    "temp1 = predict_y == input_y\n",
    "print('Accuracy on train: ', sum(temp1)/len(input_y))\n",
    "\n",
    "input_y\n",
    "temp2 = predict_dev == validation_y\n",
    "print('Accuracy on dev: ', np.sum(temp2)/len(predict_dev))"
   ]
  },
  {
   "cell_type": "code",
   "execution_count": 691,
   "metadata": {},
   "outputs": [
    {
     "name": "stdout",
     "output_type": "stream",
     "text": [
      "recall on trian:  0.7565415244596132\n",
      "precision on train:  0.6945169712793734\n",
      "f1 score on train:  0.7242036482439423\n",
      " \n",
      "recall on dev:  0.1282051282051282\n",
      "precision on dev:  0.8333333333333334\n",
      "f1 score on dev:  0.2222222222222222\n"
     ]
    }
   ],
   "source": [
    "# TP, FP, TN, FN\n",
    "\n",
    "def recallPrecisionF1(predict, actural):\n",
    "\n",
    "    tp = sum(actural*(predict == actural))\n",
    "    fp = sum(actural*(predict != actural))\n",
    "    tn = sum((1-actural)*(predict == actural))\n",
    "    fn = sum((1-actural)*(predict != actural))\n",
    "\n",
    "    recall = tp/(tp+fn)\n",
    "    precision = tp/(tp+fp)\n",
    "    f1_score = 2*(precision*recall)/(precision+recall)\n",
    "    \n",
    "    return [recall, precision, f1_score]\n",
    "\n",
    "recall, precision, f1_score =  recallPrecisionF1(predict_y, input_y)\n",
    "print('recall on trian: ', recall)\n",
    "print('precision on train: ', precision)\n",
    "print('f1 score on train: ', f1_score)\n",
    "print(' ')\n",
    "\n",
    "recall, precision, f1_score =  recallPrecisionF1(predict_dev, validation_y)\n",
    "\n",
    "print('recall on dev: ', recall)\n",
    "print('precision on dev: ', precision)\n",
    "print('f1 score on dev: ', f1_score)"
   ]
  },
  {
   "cell_type": "code",
   "execution_count": null,
   "metadata": {},
   "outputs": [],
   "source": []
  }
 ],
 "metadata": {
  "kernelspec": {
   "display_name": "Python 3",
   "language": "python",
   "name": "python3"
  },
  "language_info": {
   "codemirror_mode": {
    "name": "ipython",
    "version": 3
   },
   "file_extension": ".py",
   "mimetype": "text/x-python",
   "name": "python",
   "nbconvert_exporter": "python",
   "pygments_lexer": "ipython3",
   "version": "3.7.0"
  }
 },
 "nbformat": 4,
 "nbformat_minor": 2
}
